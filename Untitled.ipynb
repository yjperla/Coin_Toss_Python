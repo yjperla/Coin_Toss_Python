{
 "cells": [
  {
   "cell_type": "code",
   "execution_count": 79,
   "id": "radio-missouri",
   "metadata": {},
   "outputs": [
    {
     "name": "stdout",
     "output_type": "stream",
     "text": [
      "[10, 83, 441, 1222, 2023, 2418, 2069, 1187, 416, 118, 13]\n"
     ]
    }
   ],
   "source": [
    "import numpy\n",
    "M = 10000 #Cuantas veces se hará el experimento\n",
    "N = 10   #Cuantas veces le lanzará una moneda\n",
    "list_results = [0]*(N+1)\n",
    "j=0\n",
    "while (j)<M:  \n",
    "    i=0\n",
    "    head_count=0\n",
    "    while (i)<N:    #Lanzar N veces una moneda, contando cuantas caras salen\n",
    "        coin_result=numpy.random.randint(0,2)\n",
    "        i=i+1\n",
    "        if (coin_result==0):\n",
    "            head_count=head_count+1    \n",
    "    #print(head_count)\n",
    "    list_results[head_count]=list_results[head_count]+1\n",
    "    j=j+1\n",
    "print(list_results)"
   ]
  },
  {
   "cell_type": "code",
   "execution_count": 78,
   "id": "hollow-orlando",
   "metadata": {},
   "outputs": [
    {
     "name": "stdout",
     "output_type": "stream",
     "text": [
      "9\n"
     ]
    }
   ],
   "source": [
    "import numpy\n",
    "N = 10   #Cuantas veces le lanzará una moneda\n",
    "i=0\n",
    "head_count=0\n",
    "while (i)<N:    #Lanzar N veces una moneda, contando cuantas caras salen\n",
    "    coin_result=numpy.random.randint(0,2)\n",
    "    #print(i)\n",
    "    i=i+1\n",
    "    if (coin_result==0):\n",
    "        head_count=head_count+1    \n",
    "print(head_count)"
   ]
  },
  {
   "cell_type": "code",
   "execution_count": null,
   "id": "acquired-poverty",
   "metadata": {},
   "outputs": [],
   "source": []
  },
  {
   "cell_type": "code",
   "execution_count": null,
   "id": "accurate-roman",
   "metadata": {},
   "outputs": [],
   "source": []
  }
 ],
 "metadata": {
  "kernelspec": {
   "display_name": "Python 3",
   "language": "python",
   "name": "python3"
  },
  "language_info": {
   "codemirror_mode": {
    "name": "ipython",
    "version": 3
   },
   "file_extension": ".py",
   "mimetype": "text/x-python",
   "name": "python",
   "nbconvert_exporter": "python",
   "pygments_lexer": "ipython3",
   "version": "3.8.5"
  }
 },
 "nbformat": 4,
 "nbformat_minor": 5
}
